{
 "cells": [
  {
   "cell_type": "markdown",
   "id": "1b97c52e",
   "metadata": {},
   "source": [
    "# RNA Secondary Structure Prediction (EDA & Training)\n",
    "This notebook demonstrates RNA sequence data processing, exploratory data analysis, and training of a CNN model to predict secondary structure using dot-bracket notation."
   ]
  },
  {
   "cell_type": "code",
   "execution_count": null,
   "id": "6e3dd188",
   "metadata": {},
   "outputs": [],
   "source": [
    "import torch\n",
    "import torch.nn as nn\n",
    "import torch.nn.functional as F\n",
    "from torch.nn.utils.rnn import pad_sequence\n",
    "import numpy as np\n",
    "from sklearn.model_selection import train_test_split\n",
    "import matplotlib.pyplot as plt\n",
    "import os\n"
   ]
  },
  {
   "cell_type": "markdown",
   "id": "4eb45bb5",
   "metadata": {},
   "source": [
    "## Load RNA Data"
   ]
  },
  {
   "cell_type": "code",
   "execution_count": null,
   "id": "5eaf08ee",
   "metadata": {},
   "outputs": [],
   "source": [
    "def parse_three_line_txt(file_path):\n",
    "    with open(file_path, 'r') as f:\n",
    "        lines = f.readlines()\n",
    "    data = []\n",
    "    for i in range(0, len(lines), 3):\n",
    "        if lines[i].startswith('>') and i + 2 < len(lines):\n",
    "            seq = lines[i+1].strip().upper()\n",
    "            struct = lines[i+2].strip()\n",
    "            if set(seq).issubset({'A', 'U', 'G', 'C'}) and len(seq) == len(struct):\n",
    "                data.append((seq, struct))\n",
    "    return data\n",
    "\n",
    "data = parse_three_line_txt(\"data/sample_bprna_100.txt\")\n",
    "print(f\"Loaded {len(data)} RNA sequences\")\n",
    "print(data[:2])\n"
   ]
  },
  {
   "cell_type": "markdown",
   "id": "953f87db",
   "metadata": {},
   "source": [
    "## Encode RNA Sequences"
   ]
  },
  {
   "cell_type": "code",
   "execution_count": null,
   "id": "d70463bd",
   "metadata": {},
   "outputs": [],
   "source": [
    "def one_hot_encode(seq):\n",
    "    mapping = {'A': 0, 'U': 1, 'G': 2, 'C': 3}\n",
    "    one_hot = np.zeros((len(seq), 4))\n",
    "    for i, base in enumerate(seq):\n",
    "        if base in mapping:\n",
    "            one_hot[i, mapping[base]] = 1\n",
    "    return one_hot\n",
    "\n",
    "def structure_to_labels(dotbracket):\n",
    "    return np.array([1 if b in ['(', ')'] else 0 for b in dotbracket])\n"
   ]
  },
  {
   "cell_type": "markdown",
   "id": "e771c3e7",
   "metadata": {},
   "source": [
    "## Prepare Dataset"
   ]
  },
  {
   "cell_type": "code",
   "execution_count": null,
   "id": "b030569a",
   "metadata": {},
   "outputs": [],
   "source": [
    "x_tensors = [torch.tensor(one_hot_encode(seq), dtype=torch.float32) for seq, _ in data]\n",
    "y_tensors = [torch.tensor(structure_to_labels(struct), dtype=torch.long) for _, struct in data]\n",
    "\n",
    "x_train_list, x_val_list, y_train_list, y_val_list = train_test_split(x_tensors, y_tensors, test_size=0.2, random_state=42)\n",
    "\n",
    "x_train = pad_sequence(x_train_list, batch_first=True)\n",
    "y_train = pad_sequence(y_train_list, batch_first=True, padding_value=-1)\n",
    "x_val = pad_sequence(x_val_list, batch_first=True)\n",
    "y_val = pad_sequence(y_val_list, batch_first=True, padding_value=-1)\n"
   ]
  },
  {
   "cell_type": "markdown",
   "id": "dcd751a9",
   "metadata": {},
   "source": [
    "## CNN Model"
   ]
  },
  {
   "cell_type": "code",
   "execution_count": null,
   "id": "23fe2680",
   "metadata": {},
   "outputs": [],
   "source": [
    "class RNACNN(nn.Module):\n",
    "    def __init__(self):\n",
    "        super(RNACNN, self).__init__()\n",
    "        self.conv1 = nn.Conv1d(4, 16, kernel_size=3, padding=1)\n",
    "        self.conv2 = nn.Conv1d(16, 32, kernel_size=3, padding=1)\n",
    "        self.fc = nn.Linear(32, 2)\n",
    "\n",
    "    def forward(self, x):\n",
    "        x = x.permute(0, 2, 1)\n",
    "        x = F.relu(self.conv1(x))\n",
    "        x = F.relu(self.conv2(x))\n",
    "        x = x.permute(0, 2, 1)\n",
    "        x = self.fc(x)\n",
    "        return x\n",
    "\n",
    "model = RNACNN()\n",
    "criterion = nn.CrossEntropyLoss(ignore_index=-1)\n",
    "optimizer = torch.optim.Adam(model.parameters(), lr=0.001)\n"
   ]
  },
  {
   "cell_type": "markdown",
   "id": "5f55d750",
   "metadata": {},
   "source": [
    "## Train Model"
   ]
  },
  {
   "cell_type": "code",
   "execution_count": null,
   "id": "bbb2ce6b",
   "metadata": {},
   "outputs": [],
   "source": [
    "train_losses = []\n",
    "val_accuracies = []\n",
    "\n",
    "for epoch in range(25):\n",
    "    model.train()\n",
    "    optimizer.zero_grad()\n",
    "    outputs = model(x_train)\n",
    "    loss = criterion(outputs.view(-1, 2), y_train.view(-1))\n",
    "    loss.backward()\n",
    "    optimizer.step()\n",
    "    train_losses.append(loss.item())\n",
    "\n",
    "    model.eval()\n",
    "    with torch.no_grad():\n",
    "        val_outputs = model(x_val)\n",
    "        val_preds = torch.argmax(val_outputs, dim=-1)\n",
    "        mask = y_val != -1\n",
    "        correct = (val_preds == y_val) & mask\n",
    "        accuracy = correct.sum().item() / mask.sum().item()\n",
    "        val_accuracies.append(accuracy)\n",
    "\n",
    "    if (epoch + 1) % 5 == 0:\n",
    "        print(f\"Epoch {epoch+1}, Train Loss: {loss.item():.4f}, Val Accuracy: {accuracy:.4f}\")\n"
   ]
  },
  {
   "cell_type": "markdown",
   "id": "a7e0f70b",
   "metadata": {},
   "source": [
    "## Validation Accuracy Plot"
   ]
  },
  {
   "cell_type": "code",
   "execution_count": null,
   "id": "52cff8b6",
   "metadata": {},
   "outputs": [],
   "source": [
    "plt.figure(figsize=(8, 5))\n",
    "plt.plot(val_accuracies, marker='o', linestyle='--', color='green')\n",
    "plt.xlabel(\"Epoch\")\n",
    "plt.ylabel(\"Validation Accuracy\")\n",
    "plt.title(\"Validation Accuracy During Training\")\n",
    "plt.grid(True)\n",
    "plt.show()\n"
   ]
  }
 ],
 "metadata": {},
 "nbformat": 4,
 "nbformat_minor": 5
}
